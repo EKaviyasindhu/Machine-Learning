{
 "cells": [
  {
   "cell_type": "code",
   "execution_count": 2,
   "id": "5d59080d-2139-49e7-bf53-96ee97c994ba",
   "metadata": {},
   "outputs": [],
   "source": [
    "#Deployment Phase"
   ]
  },
  {
   "cell_type": "code",
   "execution_count": 1,
   "id": "04b0c525-db52-47f5-a147-e6abb41f4181",
   "metadata": {},
   "outputs": [],
   "source": [
    "import pickle"
   ]
  },
  {
   "cell_type": "code",
   "execution_count": 3,
   "id": "b159285a-2624-46b8-b860-6ed591954d0f",
   "metadata": {},
   "outputs": [],
   "source": [
    "filename= \"finalized_model_MLClassification_CKD.sav\"\n",
    "load_model=pickle.load(open(\"finalized_model_MLClassification_CKD.sav\",'rb'))"
   ]
  },
  {
   "cell_type": "code",
   "execution_count": 5,
   "id": "bbf77332-471d-414e-9bb1-50e7c2f65df2",
   "metadata": {},
   "outputs": [
    {
     "data": {
      "text/plain": [
       "array([1])"
      ]
     },
     "execution_count": 5,
     "metadata": {},
     "output_type": "execute_result"
    }
   ],
   "source": [
    "#result = load_model.predict([[6, 60, 2, 4, 0, 0, 0, 1,0,2,36,67,1,1,135,4.9,9.9,30,16700,4.8,0,0,0,0,0,0,0]]) #For getting result as 0\n",
    "result = load_model.predict([[2, 7, 1.020, 1, 0, 0, 0, 1,0,1,3,1.2,1, 4.5,14,0,0,0,1,0,0,0,0,0,1,0,0]]) #For getting result as 1\n",
    "result"
   ]
  },
  {
   "cell_type": "code",
   "execution_count": null,
   "id": "ad8d6f60-c6f2-4591-88a2-9b18f8ad8d53",
   "metadata": {},
   "outputs": [],
   "source": []
  }
 ],
 "metadata": {
  "kernelspec": {
   "display_name": "Python 3 (ipykernel)",
   "language": "python",
   "name": "python3"
  },
  "language_info": {
   "codemirror_mode": {
    "name": "ipython",
    "version": 3
   },
   "file_extension": ".py",
   "mimetype": "text/x-python",
   "name": "python",
   "nbconvert_exporter": "python",
   "pygments_lexer": "ipython3",
   "version": "3.11.7"
  }
 },
 "nbformat": 4,
 "nbformat_minor": 5
}
