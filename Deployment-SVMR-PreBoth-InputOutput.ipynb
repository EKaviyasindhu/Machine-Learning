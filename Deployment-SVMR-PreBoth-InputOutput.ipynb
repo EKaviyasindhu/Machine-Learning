{
 "cells": [
  {
   "cell_type": "code",
   "execution_count": 2,
   "id": "0980ba55-21e7-4729-9340-ba11a95a36c5",
   "metadata": {},
   "outputs": [],
   "source": [
    "import pickle"
   ]
  },
  {
   "cell_type": "code",
   "execution_count": 3,
   "id": "6c37cde9-3422-4f5f-a5ef-6ee87f435d75",
   "metadata": {},
   "outputs": [],
   "source": [
    "loaded_model = pickle.load(open(\"finalized_model_svr_preboth_inputoutput.sav\", 'rb'))"
   ]
  },
  {
   "cell_type": "code",
   "execution_count": 4,
   "id": "50190ef5-e25e-4dee-ab71-839c145bdf35",
   "metadata": {},
   "outputs": [],
   "source": [
    "StdScaler_x = loaded_model['scx']\n",
    "StdScaler_y = loaded_model['scy']\n",
    "model = loaded_model['regressor']"
   ]
  },
  {
   "cell_type": "code",
   "execution_count": 6,
   "id": "25bf9d02-f0d3-4263-b8c0-ec8c14f524ad",
   "metadata": {},
   "outputs": [
    {
     "name": "stderr",
     "output_type": "stream",
     "text": [
      "C:\\Anaconda3\\Lib\\site-packages\\sklearn\\base.py:439: UserWarning: X does not have valid feature names, but StandardScaler was fitted with feature names\n",
      "  warnings.warn(\n"
     ]
    }
   ],
   "source": [
    "preinput = StdScaler_x.transform([[1300, 12000, 4000, 0, 1]])"
   ]
  },
  {
   "cell_type": "code",
   "execution_count": 7,
   "id": "e50db61f-7060-4da8-904b-92dd729826b0",
   "metadata": {},
   "outputs": [],
   "source": [
    "result = model.predict(preinput)"
   ]
  },
  {
   "cell_type": "code",
   "execution_count": 8,
   "id": "a93551fc-7440-4c3f-a273-23c16c3d86b5",
   "metadata": {},
   "outputs": [
    {
     "data": {
      "text/plain": [
       "array([-1.03086497])"
      ]
     },
     "execution_count": 8,
     "metadata": {},
     "output_type": "execute_result"
    }
   ],
   "source": [
    "result"
   ]
  },
  {
   "cell_type": "code",
   "execution_count": 10,
   "id": "8bf08e82-e546-4271-b789-ad273a1d9769",
   "metadata": {},
   "outputs": [],
   "source": [
    "#Preprocessing final output\n",
    "preoutput = StdScaler_y.inverse_transform([result]) "
   ]
  },
  {
   "cell_type": "code",
   "execution_count": 11,
   "id": "a07fd5c3-4274-4afe-9d89-e674298b95b3",
   "metadata": {},
   "outputs": [
    {
     "data": {
      "text/plain": [
       "array([[65884.46441485]])"
      ]
     },
     "execution_count": 11,
     "metadata": {},
     "output_type": "execute_result"
    }
   ],
   "source": [
    "preoutput"
   ]
  },
  {
   "cell_type": "code",
   "execution_count": null,
   "id": "14b74465-1473-4f28-970e-b96d4de3f4fd",
   "metadata": {},
   "outputs": [],
   "source": []
  }
 ],
 "metadata": {
  "kernelspec": {
   "display_name": "Python 3 (ipykernel)",
   "language": "python",
   "name": "python3"
  },
  "language_info": {
   "codemirror_mode": {
    "name": "ipython",
    "version": 3
   },
   "file_extension": ".py",
   "mimetype": "text/x-python",
   "name": "python",
   "nbconvert_exporter": "python",
   "pygments_lexer": "ipython3",
   "version": "3.11.7"
  }
 },
 "nbformat": 4,
 "nbformat_minor": 5
}
