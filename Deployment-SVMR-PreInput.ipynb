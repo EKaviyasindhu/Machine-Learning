{
 "cells": [
  {
   "cell_type": "code",
   "execution_count": 3,
   "id": "c0c45804-5b59-4c04-8502-3e5af6938b70",
   "metadata": {},
   "outputs": [],
   "source": [
    "import pickle"
   ]
  },
  {
   "cell_type": "code",
   "execution_count": 4,
   "id": "78ea42f8-9e38-4876-93df-7cd320f7e7d3",
   "metadata": {},
   "outputs": [],
   "source": [
    "loaded_model = pickle.load(open(\"finalized_model_svr_preinput.sav\", 'rb'))"
   ]
  },
  {
   "cell_type": "code",
   "execution_count": 5,
   "id": "922b49f3-4c68-4e3e-9a92-dfa1530cd5d3",
   "metadata": {},
   "outputs": [],
   "source": [
    "StdScaler = loaded_model['sc']\n",
    "model = loaded_model['regressor']"
   ]
  },
  {
   "cell_type": "code",
   "execution_count": 6,
   "id": "bd0b6fa7-7dac-43c3-a832-05bf8b695ece",
   "metadata": {},
   "outputs": [
    {
     "name": "stderr",
     "output_type": "stream",
     "text": [
      "C:\\Anaconda3\\Lib\\site-packages\\sklearn\\base.py:439: UserWarning: X does not have valid feature names, but StandardScaler was fitted with feature names\n",
      "  warnings.warn(\n"
     ]
    }
   ],
   "source": [
    "preinput = StdScaler.transform([[1300, 12000, 4000, 0, 1]])"
   ]
  },
  {
   "cell_type": "code",
   "execution_count": 7,
   "id": "d14f3e0e-c62d-4e4e-a069-55d14a5f9e71",
   "metadata": {},
   "outputs": [],
   "source": [
    "result = model.predict(preinput)"
   ]
  },
  {
   "cell_type": "code",
   "execution_count": 8,
   "id": "c5177173-d824-4d85-80c7-ce8198bec95d",
   "metadata": {},
   "outputs": [
    {
     "data": {
      "text/plain": [
       "array([107679.01762334])"
      ]
     },
     "execution_count": 8,
     "metadata": {},
     "output_type": "execute_result"
    }
   ],
   "source": [
    "result"
   ]
  },
  {
   "cell_type": "code",
   "execution_count": null,
   "id": "2f2a574a-01d5-4989-bce2-d64767d60a94",
   "metadata": {},
   "outputs": [],
   "source": []
  },
  {
   "cell_type": "code",
   "execution_count": null,
   "id": "04d2afd2-6da7-4274-8669-b04a6acc89e6",
   "metadata": {},
   "outputs": [],
   "source": []
  }
 ],
 "metadata": {
  "kernelspec": {
   "display_name": "Python 3 (ipykernel)",
   "language": "python",
   "name": "python3"
  },
  "language_info": {
   "codemirror_mode": {
    "name": "ipython",
    "version": 3
   },
   "file_extension": ".py",
   "mimetype": "text/x-python",
   "name": "python",
   "nbconvert_exporter": "python",
   "pygments_lexer": "ipython3",
   "version": "3.11.7"
  }
 },
 "nbformat": 4,
 "nbformat_minor": 5
}
