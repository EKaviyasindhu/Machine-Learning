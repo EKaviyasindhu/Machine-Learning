{
 "cells": [
  {
   "cell_type": "code",
   "execution_count": 1,
   "id": "1f2bee9a-09bb-4e3f-a4a2-a84dbea80d3e",
   "metadata": {},
   "outputs": [],
   "source": [
    "#Deployment Phase\n",
    "import pickle"
   ]
  },
  {
   "cell_type": "code",
   "execution_count": 3,
   "id": "f1ea4184-3daf-46e6-b3f2-7794129ebcf8",
   "metadata": {},
   "outputs": [
    {
     "name": "stderr",
     "output_type": "stream",
     "text": [
      "C:\\Anaconda3\\Lib\\site-packages\\sklearn\\base.py:439: UserWarning: X does not have valid feature names, but AdaBoostRegressor was fitted with feature names\n",
      "  warnings.warn(\n"
     ]
    }
   ],
   "source": [
    "loaded_model=pickle.load(open(\"finalized_model_AdaBoost_Regression.sav\",'rb'))\n",
    "result=loaded_model.predict([[1234,444,564,1,0]])"
   ]
  },
  {
   "cell_type": "code",
   "execution_count": 4,
   "id": "f602e2e9-df18-4e2e-acb3-32d5cd7e01fa",
   "metadata": {},
   "outputs": [
    {
     "data": {
      "text/plain": [
       "array([54635.33333333])"
      ]
     },
     "execution_count": 4,
     "metadata": {},
     "output_type": "execute_result"
    }
   ],
   "source": [
    "result"
   ]
  },
  {
   "cell_type": "code",
   "execution_count": null,
   "id": "2bd1ae45-2ce9-41fd-8cc8-dd345a985c24",
   "metadata": {},
   "outputs": [],
   "source": []
  }
 ],
 "metadata": {
  "kernelspec": {
   "display_name": "Python 3 (ipykernel)",
   "language": "python",
   "name": "python3"
  },
  "language_info": {
   "codemirror_mode": {
    "name": "ipython",
    "version": 3
   },
   "file_extension": ".py",
   "mimetype": "text/x-python",
   "name": "python",
   "nbconvert_exporter": "python",
   "pygments_lexer": "ipython3",
   "version": "3.11.7"
  }
 },
 "nbformat": 4,
 "nbformat_minor": 5
}
