{
 "cells": [
  {
   "cell_type": "code",
   "execution_count": 1,
   "id": "2654fa63-699a-4262-b85d-8e762fc6ef0a",
   "metadata": {},
   "outputs": [],
   "source": [
    "#Deployment Phase\n",
    "import pickle"
   ]
  },
  {
   "cell_type": "code",
   "execution_count": 3,
   "id": "35904bd1-2815-44ab-9530-877dca52c932",
   "metadata": {},
   "outputs": [],
   "source": [
    "load_model=pickle.load(open(\"finalized_model_XGBoost_Grid_insurance_charges.sav\",'rb'))"
   ]
  },
  {
   "cell_type": "code",
   "execution_count": 4,
   "id": "bc77c915-7126-43b6-a6a3-79f24b21e437",
   "metadata": {},
   "outputs": [
    {
     "data": {
      "text/plain": [
       "array([40655.02], dtype=float32)"
      ]
     },
     "execution_count": 4,
     "metadata": {},
     "output_type": "execute_result"
    }
   ],
   "source": [
    "result=load_model.predict([[44,33.5,2,1,1]])\n",
    "result"
   ]
  },
  {
   "cell_type": "code",
   "execution_count": null,
   "id": "d3c15d71-45ce-47ef-b54d-d009406bfba8",
   "metadata": {},
   "outputs": [],
   "source": []
  }
 ],
 "metadata": {
  "kernelspec": {
   "display_name": "Python 3 (ipykernel)",
   "language": "python",
   "name": "python3"
  },
  "language_info": {
   "codemirror_mode": {
    "name": "ipython",
    "version": 3
   },
   "file_extension": ".py",
   "mimetype": "text/x-python",
   "name": "python",
   "nbconvert_exporter": "python",
   "pygments_lexer": "ipython3",
   "version": "3.11.7"
  }
 },
 "nbformat": 4,
 "nbformat_minor": 5
}
